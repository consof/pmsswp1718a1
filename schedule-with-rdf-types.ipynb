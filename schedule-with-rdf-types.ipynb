{
 "cells": [
  {
   "cell_type": "markdown",
   "metadata": {},
   "source": [
    "# Notebook για την παραγωγή των δεδομένων N-Triples (εργασία μαθήματος).\n",
    "\n",
    "Χρησιμοποιήστε κώδικα από τα notebooks προηγούμενων εργαστηρίων με τις κατάλληλες αλλαγές για να συμπληρώσετε το ζητούμενο αρχείο `schedule-data.nt` της εργασίας του μαθήματος. Μην ξεχάσετε να εισάγετε τις τριάδες με το κατηγόρημα `rdf:type`!\n",
    "\n",
    "Προσθέστε τον κώδικά σας στα επόμενα κελιά.
  ]
  },
  {
   "cell_type": "code",
   "execution_count": null,
   "metadata": {
    "collapsed": true
   },
   "outputs": [],
   "source": []
  }
 ],
 "metadata": {
  "kernelspec": {
   "display_name": "Python 3",
   "language": "python",
   "name": "python3"
  },
  "language_info": {
   "codemirror_mode": {
    "name": "ipython",
    "version": 3
   },
   "file_extension": ".py",
   "mimetype": "text/x-python",
   "name": "python",
   "nbconvert_exporter": "python",
   "pygments_lexer": "ipython3",
   "version": "3.4.4"
  }
 },
 "nbformat": 4,
 "nbformat_minor": 0
}

