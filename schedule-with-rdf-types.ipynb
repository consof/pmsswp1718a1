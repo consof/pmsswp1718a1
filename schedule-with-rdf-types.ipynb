{
 "cells": [
  {
   "cell_type": "code",
   "execution_count": null,
   "metadata": {
    "collapsed": true
   },
   "outputs": [],
   "source": [
    "import csv\n",
    "\n",
    "urilist1 = []\n",
    "with open('schedule-triples-final.csv',newline='') as ifp:\n",
    "    reader = csv.reader(ifp)\n",
    "    for row in reader:\n",
    "        urilist1.append(row)\n",
    "\n",
    "urilist2=[]\n",
    "for s,p,o in urilist1:\n",
    "    if o.startswith('http:'):\n",
    "        o ='<' + o + '>'\n",
    "    p ='<' + p + '>'   \n",
    "    if p in ('<http://dilab77.ionio.gr/swp/c17sofi/vocab#Έναρξη>','<http://dilab77.ionio.gr/swp/c17sofi/vocab#Λήξη>'):\n",
    "        o = '\"' + o + ':00' + '\"^^<http://www.w3.org/2001/XMLSchema#time>'\n",
    "    if p =='<http://dilab77.ionio.gr/swp/c17sofi/vocab#Ημέρα>':\n",
    "        o ='\"' + o + '\"'\n",
    "    urilist2.append((s,p,o))\n",
    "    \n",
    "# VOC_PREF = 'http://dilab77.ionio.gr/swp/c17sofi/vocab#'\n",
    "# RES_PREF = 'http://dilab77.ionio.gr/swp/c17sofi/resource/'\n",
    "\n",
    "triples=[]\n",
    "for s,p,o in urilist2:\n",
    "    if p == '<http://dilab77.ionio.gr/swp/c17sofi/vocab#Καθηγητής>':\n",
    "        s = '<http://dilab77.ionio.gr/swp/c17sofi/vocab#Καθηγητής>'\n",
    "        o = o[0:]\n",
    "        p = '<http://www.w3.org/1999/02/22-rdf-syntax-ns#type>'\n",
    "    elif p == '<http://dilab77.ionio.gr/swp/c17sofi/vocab#Μάθημα>':\n",
    "        s = '<http://dilab77.ionio.gr/swp/c17sofi/vocab#Μάθημα>'\n",
    "        o = o[0:]\n",
    "        p = '<http://www.w3.org/1999/02/22-rdf-syntax-ns#type>'\n",
    "    elif p == '<http://dilab77.ionio.gr/swp/c17sofi/vocab#Αίθουσα>':\n",
    "        s = '<http://dilab77.ionio.gr/swp/c17sofi/vocab#Αίθουσα>'\n",
    "        o = o[0:]\n",
    "        p = '<http://www.w3.org/1999/02/22-rdf-syntax-ns#type>'\n",
    "    triples.append((s,p,o))    \n",
    "    \n",
    "with open('schedule-data.nt','w') as ofp:\n",
    "    for s,p,o in triples:\n",
    "        ofp.write('{} {} {} .\\n'.format(s,p,o))"
   ]
  }
 ],
 "metadata": {
  "kernelspec": {
   "display_name": "Python 3",
   "language": "python",
   "name": "python3"
  },
  "language_info": {
   "codemirror_mode": {
    "name": "ipython",
    "version": 3
   },
   "file_extension": ".py",
   "mimetype": "text/x-python",
   "name": "python",
   "nbconvert_exporter": "python",
   "pygments_lexer": "ipython3",
   "version": "3.4.4"
  }
 },
 "nbformat": 4,
 "nbformat_minor": 0
}
