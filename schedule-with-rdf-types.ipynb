{
 "cells": [
  {
   "cell_type": "markdown",
   "metadata": {},
   "source": [
    "# Notebook για την παραγωγή των δεδομένων N-Triples (εργασία μαθήματος).\n",
    "\n",
    "Χρησιμοποιήστε κώδικα από τα notebooks προηγούμενων εργαστηρίων με τις κατάλληλες αλλαγές για να συμπληρώσετε το ζητούμενο αρχείο `schedule-data.nt` της εργασίας του μαθήματος. Μην ξεχάσετε να εισάγετε τις τριάδες με το κατηγόρημα `rdf:type`!\n",
    "\n",
    "Προσθέστε τον κώδικά σας στα επόμενα κελιά.
    
    "import csv
    "urilist1 = []
    "with open('schedule-triples-final.csv',newline='') as ifp:
         "reader = csv.reader(ifp)
         "for row in reader:
             "urilist1.append(row)
     "urilist2=[]
     "for s,p,o in urilist1:
     "if o.startswith('http:'):
         "o ='<' + o + '>'
         "p ='<' + p + '>'   
      "if p in ('<http://dilab77.ionio.gr/swp/c17sofi/vocab#Έναρξη>','<http://dilab77.ionio.gr/swp/c17sofi/vocab#Λήξη>'):
         "o = '"' + o + ':00' + '"^^<http://www.w3.org/2001/XMLSchema#time>'
      "if p =='<http://dilab77.ionio.gr/swp/c17sofi/vocab#Ημέρα>':
         "o ='"' + o + '"'
      "urilist2.append((s,p,o))
       
      "triples=[]
      "for s,p,o in urilist2:
          "if p == '<http://dilab77.ionio.gr/swp/c17sofi/vocab#Καθηγητής>':
              "s = '<http://dilab77.ionio.gr/swp/c17sofi/vocab#Καθηγητής>'
              "o = o[0:]
              "p = '<http://www.w3.org/1999/02/22-rdf-syntax-ns#type>'
         "elif p == '<http://dilab77.ionio.gr/swp/c17sofi/vocab#Μάθημα>':
             "s = '<http://dilab77.ionio.gr/swp/c17sofi/vocab#Μάθημα>'
             "o = o[0:]
             "p = '<http://www.w3.org/1999/02/22-rdf-syntax-ns#type>'
         "elif p == '<http://dilab77.ionio.gr/swp/c17sofi/vocab#Αίθουσα>':
             "s = '<http://dilab77.ionio.gr/swp/c17sofi/vocab#Αίθουσα>'
             "o = o[0:]
             "p = '<http://www.w3.org/1999/02/22-rdf-syntax-ns#type>'
         "triples.append((s,p,o))    
    
      "with open('schedule-data.nt','w') as ofp:
          "for s,p,o in triples:
             "ofp.write('{} {} {} .\n'.format(s,p,o))
    
   ]
  },
  {
   "cell_type": "code",
   "execution_count": null,
   "metadata": {
    "collapsed": true
   },
   "outputs": [],
   "source": []
  }
 ],
 "metadata": {
  "kernelspec": {
   "display_name": "Python 3",
   "language": "python",
   "name": "python3"
  },
  "language_info": {
   "codemirror_mode": {
    "name": "ipython",
    "version": 3
   },
   "file_extension": ".py",
   "mimetype": "text/x-python",
   "name": "python",
   "nbconvert_exporter": "python",
   "pygments_lexer": "ipython3",
   "version": "3.4.4"
  }
 },
 "nbformat": 4,
 "nbformat_minor": 0
}

